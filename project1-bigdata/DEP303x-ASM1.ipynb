{
 "cells": [
  {
   "cell_type": "markdown",
   "id": "bdb483e2",
   "metadata": {},
   "source": [
    "# ASM1 - Phân tích hành vi và thói quen của người dùng Stack Overflow\n"
   ]
  },
  {
   "cell_type": "markdown",
   "id": "5852ee57",
   "metadata": {},
   "source": [
    "### Import thư viện cần thiết và tạo SparkSession\n"
   ]
  },
  {
   "cell_type": "code",
   "execution_count": 2,
   "id": "0e488ece",
   "metadata": {},
   "outputs": [],
   "source": [
    "from pyspark import SparkConf\n",
    "from pyspark.sql import SparkSession, Window\n",
    "from pyspark.sql.types import *\n",
    "from pyspark.sql.functions import *\n",
    "from pyspark.sql import functions as f\n",
    "import findspark\n",
    "from datetime import datetime\n",
    "\n",
    "findspark.init()\n",
    "myConf = SparkConf()    \\\n",
    "    .setMaster(\"local\") \\\n",
    "    .setAppName(\"ASM1\")\n",
    "\n",
    "spark = SparkSession \\\n",
    "    .builder    \\\n",
    "    .config(conf=myConf)    \\\n",
    "    .config('spark.jars.packages',\"org.mongodb.spark:mongo-spark-connector_2.12:10.1.1\")    \\\n",
    "    .config(\"spark.mongodb.read.connection.uri\",\"mongodb://127.0.0.1:27017/\")    \\\n",
    "    .config(\"spark.mongodb.read.database\",\"ASM1-DEP303\")    \\\n",
    "    .getOrCreate()"
   ]
  },
  {
   "cell_type": "markdown",
   "id": "23f9d81e",
   "metadata": {},
   "source": [
    "### Đọc dữ liệu từ mongodb và  chuẩn hóa dữ liệu"
   ]
  },
  {
   "cell_type": "code",
   "execution_count": 3,
   "id": "3699bb28",
   "metadata": {
    "scrolled": false
   },
   "outputs": [
    {
     "name": "stdout",
     "output_type": "stream",
     "text": [
      "root\n",
      " |-- Body: string (nullable = true)\n",
      " |-- ClosedDate: date (nullable = true)\n",
      " |-- CreationDate: date (nullable = true)\n",
      " |-- Id: integer (nullable = true)\n",
      " |-- OwnerUserId: integer (nullable = true)\n",
      " |-- Score: integer (nullable = true)\n",
      " |-- Title: string (nullable = true)\n",
      "\n",
      "root\n",
      " |-- Body: string (nullable = true)\n",
      " |-- CreationDate: date (nullable = true)\n",
      " |-- Id: integer (nullable = true)\n",
      " |-- OwnerUserId: integer (nullable = true)\n",
      " |-- ParentId: integer (nullable = true)\n",
      " |-- Score: integer (nullable = true)\n",
      "\n"
     ]
    }
   ],
   "source": [
    "# Tạo dataframe bằng read mongodb collection và thay đổi kiểu dữ liệu cho phù hợp\n",
    "Questions_df = spark.read \\\n",
    "    .format('mongodb') \\\n",
    "    .option('spark.mongodb.read.collection','Questions') \\\n",
    "    .load() \n",
    "\n",
    "Questions_df = Questions_df \\\n",
    "    .withColumn(\"CreationDate\", f.to_date(\"CreationDate\")) \\\n",
    "    .withColumn(\"ClosedDate\", f.to_date(\"ClosedDate\")) \\\n",
    "    .withColumn(\"OwnerUserId\", f.col(\"OwnerUserId\").cast(\"int\")) \\\n",
    "    .drop(\"_id\")\n",
    "\n",
    "Questions_df.printSchema()\n",
    "\n",
    "Answers_df = spark.read \\\n",
    "    .format('mongodb') \\\n",
    "    .option('spark.mongodb.read.collection','Answers') \\\n",
    "    .load()\n",
    "Answers_df = Answers_df \\\n",
    "    .withColumn(\"CreationDate\",to_date(\"CreationDate\")) \\\n",
    "    .withColumn(\"OwnerUserId\",f.col(\"OwnerUserId\").cast(\"int\")) \\\n",
    "    .drop(\"_id\")\n",
    "\n",
    "Answers_df.printSchema()\n"
   ]
  },
  {
   "cell_type": "markdown",
   "id": "9fbc7b31",
   "metadata": {},
   "source": [
    "### Yêu cầu 1: Tính số lần xuất hiện của các ngôn ngữ lập trình"
   ]
  },
  {
   "cell_type": "code",
   "execution_count": 4,
   "id": "c0d88f2e",
   "metadata": {
    "scrolled": true
   },
   "outputs": [
    {
     "name": "stdout",
     "output_type": "stream",
     "text": [
      "+-------------------+------+\n",
      "|Programing Language| Count|\n",
      "+-------------------+------+\n",
      "|               Java|103531|\n",
      "|             Python| 43625|\n",
      "|                C++| 28828|\n",
      "|                 C#| 32396|\n",
      "|                 Go| 78057|\n",
      "|               Ruby| 16006|\n",
      "|         Javascript| 14799|\n",
      "|                PHP| 62855|\n",
      "|               HTML| 88923|\n",
      "|                CSS| 33388|\n",
      "|                SQL|140739|\n",
      "+-------------------+------+\n",
      "\n"
     ]
    }
   ],
   "source": [
    "# Tạo list ngôn ngữ cần đếm\n",
    "\n",
    "languages = ['Java', 'Python', 'C\\+\\+', 'C#', 'Go', 'Ruby', 'Javascript', 'PHP', 'HTML', 'CSS', 'SQL']\n",
    "\n",
    "# Split Questions.Body theo khoảng trắng và dùng regex để lấy tên ngôn ngữ cần đếm\n",
    "for i, name in enumerate(languages) :\n",
    "    getName = Questions_df \\\n",
    "        .withColumn(\"explodeBody\", f.explode(f.split(f.col(\"Body\"), \" \"))) \\\n",
    "        .select(f.regexp_extract(f.col(\"explodeBody\"), rf\"({name})\" , 1).alias(\"Programing Language\")) \\\n",
    "        .filter(f.col(\"Programing Language\") != \"\") \\\n",
    "        .groupBy(\"Programing Language\") \\\n",
    "        .agg(f.count(\"*\").alias(\"Count\"))\n",
    "    if i == 0:\n",
    "        totalLanguageDF = getName\n",
    "    else:\n",
    "        totalLanguageDF = totalLanguageDF.unionByName(getName, allowMissingColumns=True)\n",
    "        \n",
    "totalLanguageDF.show()"
   ]
  },
  {
   "cell_type": "markdown",
   "id": "3eba69dd",
   "metadata": {},
   "source": [
    "### Yêu cầu 2 : Tìm các domain được sử dụng nhiều nhất trong các câu hỏi"
   ]
  },
  {
   "cell_type": "code",
   "execution_count": 5,
   "id": "6df83840",
   "metadata": {},
   "outputs": [
    {
     "name": "stdout",
     "output_type": "stream",
     "text": [
      "+--------------------+------+\n",
      "|              Domain| Count|\n",
      "+--------------------+------+\n",
      "|  i.stack.imgur.com/|125351|\n",
      "|  stackoverflow.com/| 56836|\n",
      "|       jsfiddle.net/| 34808|\n",
      "|         github.com/| 34728|\n",
      "|         www.w3.org/| 17716|\n",
      "|schemas.android.com/| 14465|\n",
      "|www.springframewo...| 11636|\n",
      "| msdn.microsoft.com/|  8909|\n",
      "|          localhost/|  6383|\n",
      "|   en.wikipedia.org/|  5452|\n",
      "|       pastebin.com/|  5431|\n",
      "|schemas.microsoft...|  5414|\n",
      "|       java.sun.com/|  5324|\n",
      "|ajax.googleapis.com/|  5248|\n",
      "|        example.com/|  4399|\n",
      "|    code.google.com/|  4274|\n",
      "|        i.imgur.com/|  4134|\n",
      "|developers.google...|  3798|\n",
      "|developer.android...|  3662|\n",
      "|     localhost:8080/|  3533|\n",
      "+--------------------+------+\n",
      "only showing top 20 rows\n",
      "\n"
     ]
    }
   ],
   "source": [
    "# Split Questions.Body theo khoảng trắng, dùng regex để lấy tên domain và dùng count để đếm tên domain\n",
    "totalDomain = Questions_df \\\n",
    "        .withColumn(\"explodeBody\", f.explode(f.split(f.col(\"Body\"), \" \"))) \\\n",
    "        .select(f.regexp_extract(f.col(\"explodeBody\"), r'https?://(\\S+?/)' , 1).alias(\"Domain\")) \\\n",
    "        .filter(f.col(\"Domain\") != \"\") \\\n",
    "        .groupBy(\"Domain\") \\\n",
    "        .agg(f.count(\"*\").alias(\"Count\")) \\\n",
    "        .sort(f.col(\"Count\").desc())\n",
    "\n",
    "totalDomain.show()"
   ]
  },
  {
   "cell_type": "markdown",
   "id": "5d205386",
   "metadata": {},
   "source": [
    "### Yêu cầu 3 : Tính tổng điểm của User theo từng ngày"
   ]
  },
  {
   "cell_type": "code",
   "execution_count": 6,
   "id": "7f6d6793",
   "metadata": {
    "scrolled": false
   },
   "outputs": [
    {
     "name": "stdout",
     "output_type": "stream",
     "text": [
      "+-----------+------------+---------------+----------+\n",
      "|OwnerUserId|CreationDate|TotalScoreInDay|TotalScore|\n",
      "+-----------+------------+---------------+----------+\n",
      "|          1|  2008-11-26|             10|        10|\n",
      "|          1|  2009-01-08|             20|        30|\n",
      "|          1|  2009-10-08|             28|        58|\n",
      "|          4|  2009-01-01|              4|         4|\n",
      "|          4|  2009-02-14|              9|        13|\n",
      "|          4|  2010-07-02|             66|        79|\n",
      "|          5|  2008-12-28|              0|         0|\n",
      "|          5|  2009-04-08|             12|        12|\n",
      "|          5|  2011-03-28|             11|        23|\n",
      "|          5|  2011-04-06|              2|        25|\n",
      "|          9|  2012-01-19|              2|         2|\n",
      "|         17|  2008-08-05|             14|        14|\n",
      "|         17|  2010-09-05|              1|        15|\n",
      "|         17|  2011-01-27|              0|        15|\n",
      "|         20|  2010-09-22|              2|         2|\n",
      "|         20|  2011-04-21|              2|         4|\n",
      "|         20|  2011-05-19|              3|         7|\n",
      "|         20|  2013-08-02|              0|         7|\n",
      "|         22|  2012-04-27|              1|         1|\n",
      "|         23|  2008-12-16|             27|        27|\n",
      "+-----------+------------+---------------+----------+\n",
      "only showing top 20 rows\n",
      "\n"
     ]
    }
   ],
   "source": [
    "# Tính tổng điểm của từng Id theo từng ngày\n",
    "score_df = Questions_df    \\\n",
    "    .filter(Questions_df.OwnerUserId != 0)    \\\n",
    "    .groupBy(\"OwnerUserId\",\"CreationDate\")    \\\n",
    "    .agg(f.sum(\"Score\").alias(\"TotalScoreInDay\"))\n",
    "   \n",
    "# Tạo Windowing để tính tổng điểm của từng Id qua các ngày\n",
    "running_total_window = Window.partitionBy(\"OwnerUserId\")    \\\n",
    "    .orderBy(\"CreationDate\")\n",
    "\n",
    "# Chạy câu truy vấn theo windowing\n",
    "totalscore_df = score_df.withColumn(\"TotalScore\",f.sum(\"TotalScoreInDay\").over(running_total_window))    \\\n",
    "    .sort(\"OwnerUserId\",\"CreationDate\")\n",
    "\n",
    "totalscore_df.show()"
   ]
  },
  {
   "cell_type": "markdown",
   "id": "eed23405",
   "metadata": {},
   "source": [
    "### Yêu cầu 4: Tính tổng số điểm mà User đạt được trong một khoảng thời gian"
   ]
  },
  {
   "cell_type": "code",
   "execution_count": 7,
   "id": "e7c769f4",
   "metadata": {},
   "outputs": [
    {
     "name": "stdout",
     "output_type": "stream",
     "text": [
      "+-----------+----------+\n",
      "|OwnerUserId|TotalScore|\n",
      "+-----------+----------+\n",
      "|          1|        10|\n",
      "|          5|         0|\n",
      "|         17|        14|\n",
      "|         23|        27|\n",
      "|         25|        10|\n",
      "|         26|        34|\n",
      "|         27|         9|\n",
      "|         29|       206|\n",
      "|         33|       222|\n",
      "|         35|        25|\n",
      "|         39|        16|\n",
      "|         40|         7|\n",
      "|         41|        16|\n",
      "|         45|        12|\n",
      "|         49|        22|\n",
      "|         51|        30|\n",
      "|         56|        28|\n",
      "|         58|       171|\n",
      "|         60|        22|\n",
      "|         61|        63|\n",
      "+-----------+----------+\n",
      "only showing top 20 rows\n",
      "\n"
     ]
    }
   ],
   "source": [
    "START = '01-01-2008'\n",
    "END = '01-01-2009'\n",
    "\n",
    "# Filter dataframe theo điều kiện\n",
    "totalscore2_df = Questions_df.filter(f.col(\"CreationDate\") > datetime.strptime(START, '%d-%m-%Y'))    \\\n",
    "    .filter(f.col(\"CreationDate\") < datetime.strptime(END, '%d-%m-%Y'))    \\\n",
    "    .filter(Questions_df.OwnerUserId != 0)    \\\n",
    "    .groupBy(\"OwnerUserId\") \\\n",
    "    .agg(f.sum(\"Score\").alias(\"TotalScore\"))    \\\n",
    "    .sort(\"OwnerUserId\")\n",
    "totalscore2_df.show()"
   ]
  },
  {
   "cell_type": "markdown",
   "id": "9a7d6cb9",
   "metadata": {},
   "source": [
    "### Yêu cầu 5: Tìm các câu hỏi có nhiều câu trả lời"
   ]
  },
  {
   "cell_type": "code",
   "execution_count": 8,
   "id": "fcaf0629",
   "metadata": {},
   "outputs": [
    {
     "name": "stdout",
     "output_type": "stream",
     "text": [
      "+--------+-----------+--------------------+------------+\n",
      "|      Id|OwnerUserId|               Title|TotalAnswers|\n",
      "+--------+-----------+--------------------+------------+\n",
      "|  406760|      22656|What's your most ...|         408|\n",
      "|   38210|       1944|What non-programm...|         316|\n",
      "|   23930|       1337|Factorial Algorit...|         129|\n",
      "|  100420|       9611|Hidden Features o...|         100|\n",
      "|   40480|       4315|Is Java \"pass-by-...|          69|\n",
      "|  490420|       9931|Favorite (Clever)...|          67|\n",
      "|  106340|      17176|What is your favo...|          61|\n",
      "| 2155930|      65393|Fixing \"The break...|          59|\n",
      "|  226970|      28722|What's the  best ...|          55|\n",
      "|  202750|      68336|Is there a human ...|          51|\n",
      "| 1218390|     106140|What is your most...|          50|\n",
      "|17054000|    1489990|\"cannot resolve s...|          49|\n",
      "|   24270|       2131|What's the point ...|          45|\n",
      "|  173400|       5291|How to check if P...|          43|\n",
      "|  274230|      31649|What are the best...|          43|\n",
      "|  728360|      49695|How do I correctl...|          42|\n",
      "| 1009160|      68920|Reverse the order...|          41|\n",
      "|  182630|      20946|jQuery Tips and T...|          40|\n",
      "| 3412730|     389236|Code-golf: Output...|          40|\n",
      "|   64790|       8761|Why aren't my bre...|          40|\n",
      "+--------+-----------+--------------------+------------+\n",
      "only showing top 20 rows\n",
      "\n"
     ]
    }
   ],
   "source": [
    "# Tạo dataframe gồm các data cần thiết\n",
    "questionsid_df = Questions_df.select(\"Id\",\"OwnerUserId\",\"Title\")\n",
    "answersid_df = Answers_df.select(\"ParentId\")\n",
    "\n",
    "# Tạo key và kiểu join\n",
    "joinexpr = questionsid_df.Id == answersid_df.ParentId\n",
    "join_type = \"inner\"\n",
    "\n",
    "goodQuestions_df = questionsid_df.join(answersid_df,joinexpr,join_type)    \\\n",
    "    .groupBy(\"Id\",\"OwnerUserId\",\"Title\")    \\\n",
    "    .agg(f.count(\"*\").alias(\"TotalAnswers\"))    \\\n",
    "    .filter(f.col(\"TotalAnswers\") >= 5)    \\\n",
    "    .sort(f.col(\"TotalAnswers\").desc())\n",
    "goodQuestions_df.show()"
   ]
  },
  {
   "cell_type": "markdown",
   "id": "45dfa477",
   "metadata": {},
   "source": [
    "### Yêu cầu 6: Tìm các Active User"
   ]
  },
  {
   "cell_type": "code",
   "execution_count": 9,
   "id": "7d096bc6",
   "metadata": {},
   "outputs": [
    {
     "name": "stdout",
     "output_type": "stream",
     "text": [
      "+------+\n",
      "|  User|\n",
      "+------+\n",
      "| 17389|\n",
      "| 74757|\n",
      "| 91299|\n",
      "|175201|\n",
      "|230513|\n",
      "| 14148|\n",
      "| 17172|\n",
      "| 42304|\n",
      "| 49197|\n",
      "|201725|\n",
      "|207421|\n",
      "|205426|\n",
      "| 17028|\n",
      "| 39742|\n",
      "| 97385|\n",
      "| 98654|\n",
      "|109035|\n",
      "|127440|\n",
      "|147463|\n",
      "|139459|\n",
      "+------+\n",
      "only showing top 20 rows\n",
      "\n"
     ]
    }
   ],
   "source": [
    "# Gồm 2 điều kiện\n",
    "# 1. Có nhiều hơn 50 câu trả lời hoặc tổng số điểm đạt được khi trả lời lớn hơn 500\n",
    "firstCase_df = Answers_df    \\\n",
    "    .select(f.col(\"OwnerUserId\").alias(\"User\"),\"Score\")    \\\n",
    "    .groupBy(\"User\")    \\\n",
    "    .agg(f.count(\"*\").alias(\"TotalAnswers\"),f.sum(\"Score\").alias(\"TotalScore\"))    \\\n",
    "    .where((f.col(\"TotalAnswers\") > 50) | (f.col(\"TotalScore\") > 500))    \\\n",
    "    .select(\"User\")\n",
    "\n",
    "# 2.Có nhiều hơn 5 câu trả lời ngay trong ngày câu hỏi được tạo\n",
    "questionsdayDF = Questions_df \\\n",
    "    .select(\"Id\", \"CreationDate\")\n",
    "answersdayDF = Answers_df \\\n",
    "    .select(\"ParentId\",\"Id\",\"CreationDate\")\n",
    "joinexpr2 = questionsdayDF.Id == answersdayDF.ParentId\n",
    "secondCase_df = questionsdayDF    \\\n",
    "    .join(answersdayDF,joinexpr2,\"inner\")    \\\n",
    "    .where((questionsdayDF.CreationDate) == (answersdayDF.CreationDate))    \\\n",
    "    .groupBy(questionsdayDF.Id)    \\\n",
    "    .agg(f.count(\"*\").alias(\"QuickAnswers\"))    \\\n",
    "    .filter(f.col(\"QuickAnswers\") > 5)    \\\n",
    "    .select(\"Id\")\n",
    "# Union 2 case \n",
    "activeUsersDF = firstCase_df.union(secondCase_df).show()"
   ]
  }
 ],
 "metadata": {
  "kernelspec": {
   "display_name": "Python 3 (ipykernel)",
   "language": "python",
   "name": "python3"
  },
  "language_info": {
   "codemirror_mode": {
    "name": "ipython",
    "version": 3
   },
   "file_extension": ".py",
   "mimetype": "text/x-python",
   "name": "python",
   "nbconvert_exporter": "python",
   "pygments_lexer": "ipython3",
   "version": "3.11.3"
  }
 },
 "nbformat": 4,
 "nbformat_minor": 5
}
